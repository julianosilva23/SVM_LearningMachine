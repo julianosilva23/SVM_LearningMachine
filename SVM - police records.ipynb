{
 "cells": [
  {
   "cell_type": "code",
   "execution_count": 1,
   "metadata": {},
   "outputs": [],
   "source": [
    "import pandas as pd\n",
    "import numpy as np\n",
    "import seaborn as sns\n",
    "from matplotlib import pyplot as plt"
   ]
  },
  {
   "cell_type": "code",
   "execution_count": 2,
   "metadata": {},
   "outputs": [],
   "source": [
    "dpevolucaoMensalCisp = pd.read_csv('rio-police-records/BaseDPEvolucaoMensalCisp.csv', encoding='latin', sep=';')"
   ]
  },
  {
   "cell_type": "code",
   "execution_count": 3,
   "metadata": {},
   "outputs": [],
   "source": [
    "populacaoEvolucaoCispv = pd.read_csv('rio-police-records/PopulacaoEvolucaoMensalCisp.csv', encoding='latin', sep=';')"
   ]
  },
  {
   "cell_type": "code",
   "execution_count": 4,
   "metadata": {},
   "outputs": [],
   "source": [
    "delegacias = pd.read_csv('rio-police-records/delegacias.csv', encoding='utf-8', sep=';')"
   ]
  },
  {
   "cell_type": "code",
   "execution_count": 73,
   "metadata": {},
   "outputs": [
    {
     "data": {
      "text/plain": [
       "Index(['CISP', 'mes', 'vano', 'mes_ano', 'area_cisp', 'AISP', 'RISP', 'munic',\n",
       "       'mcirc', 'Regiao', 'hom_doloso', 'lesao_corp_morte', 'latrocinio',\n",
       "       'tentat_hom', 'lesao_corp_dolosa', 'estupro', 'hom_culposo',\n",
       "       'lesao_corp_culposa', 'encontro_cadaver', 'encontro_ossada',\n",
       "       'roubo_comercio', 'roubo_residencia', 'roubo_veiculo', 'roubo_carga',\n",
       "       'roubo_transeunte', 'roubo_em_coletivo', 'roubo_banco',\n",
       "       'roubo_cx_eletronico', 'roubo_celular', 'roubo_conducao_saque',\n",
       "       'roubo_bicicleta', 'outros_roubos', 'total_roubos', 'furto_veiculos',\n",
       "       'furto_bicicleta', 'outros_furtos', 'total_furtos', 'sequestro',\n",
       "       'extorsao', 'sequestro_relampago', 'estelionato', 'apreensao_drogas',\n",
       "       'recuperacao_veiculos', 'cump_mandado_prisao', 'ameaca',\n",
       "       'pessoas_desaparecidas', 'hom_por_interv_policial', 'armas_apreendidas',\n",
       "       'prisoes', 'grp', 'apf_cmp', 'apreensoes', 'gaai', 'aaapai_cmba',\n",
       "       'registro_ocorrencias', 'pol_militares_mortos_serv',\n",
       "       'pol_civis_mortos_serv', 'indicador_letalidade', 'indicador_roubo_rua',\n",
       "       'indicador_roubo_veic', 'fase'],\n",
       "      dtype='object')"
      ]
     },
     "execution_count": 73,
     "metadata": {},
     "output_type": "execute_result"
    }
   ],
   "source": [
    "dpevolucaoMensalCisp.columns"
   ]
  },
  {
   "cell_type": "code",
   "execution_count": 85,
   "metadata": {},
   "outputs": [],
   "source": [
    "dpevolucaoMensalCisp[['vano']] = dpevolucaoMental[['vano']].astype(str)"
   ]
  },
  {
   "cell_type": "code",
   "execution_count": null,
   "metadata": {},
   "outputs": [],
   "source": [
    "dpevolucaoMental"
   ]
  },
  {
   "cell_type": "code",
   "execution_count": 59,
   "metadata": {},
   "outputs": [],
   "source": [
    "# plt.figure(figsize=(9,4))\n",
    "# sns.countplot(dpevolucaoMental['vano'], palette='Dark2')"
   ]
  },
  {
   "cell_type": "code",
   "execution_count": 69,
   "metadata": {},
   "outputs": [
    {
     "data": {
      "text/plain": [
       "2003    1526\n",
       "2004    1560\n",
       "2005    1560\n",
       "2006    1560\n",
       "2007    1560\n",
       "2008    1567\n",
       "2009    1572\n",
       "2010    1586\n",
       "2011    1632\n",
       "2012    1632\n",
       "2013    1634\n",
       "2014    1656\n",
       "2015    1656\n",
       "2016    1656\n",
       "2017     828\n",
       "Name: vano, dtype: int64"
      ]
     },
     "execution_count": 69,
     "metadata": {},
     "output_type": "execute_result"
    }
   ],
   "source": [
    "dpevolucaoMensalCisp['vano'].value_counts().sort_index()"
   ]
  },
  {
   "cell_type": "code",
   "execution_count": 70,
   "metadata": {},
   "outputs": [
    {
     "data": {
      "text/plain": [
       "Interior              8477\n",
       "Capital               5192\n",
       "Baixada Fluminense    3198\n",
       "Interior              2814\n",
       "Capital               1764\n",
       "Grande Niterói        1320\n",
       "Grande Niterói         420\n",
       "Name: Regiao, dtype: int64"
      ]
     },
     "execution_count": 70,
     "metadata": {},
     "output_type": "execute_result"
    }
   ],
   "source": [
    "dpevolucaoMensalCisp['Regiao'].value_counts()"
   ]
  },
  {
   "cell_type": "code",
   "execution_count": 77,
   "metadata": {},
   "outputs": [
    {
     "data": {
      "text/plain": [
       "1     1998\n",
       "2     1998\n",
       "3     1998\n",
       "4     2000\n",
       "5     2000\n",
       "6     2001\n",
       "7     1863\n",
       "8     1865\n",
       "9     1865\n",
       "10    1865\n",
       "11    1865\n",
       "12    1867\n",
       "Name: mes, dtype: int64"
      ]
     },
     "execution_count": 77,
     "metadata": {},
     "output_type": "execute_result"
    }
   ],
   "source": [
    "dpevolucaoMensalCisp['mes'].value_counts().sort_index()"
   ]
  },
  {
   "cell_type": "code",
   "execution_count": 86,
   "metadata": {},
   "outputs": [],
   "source": [
    "#Removido esta coluna por se tratar de uma coluna que contém dos mesmos dados da coluna \"mes\" e \"vano\"\n",
    "dpevolucaoMensalCisp.drop(columns='mes_ano', inplace=True)"
   ]
  },
  {
   "cell_type": "code",
   "execution_count": 95,
   "metadata": {},
   "outputs": [],
   "source": [
    "dpevolucaoMensalCisp['munic'] = dpevolucaoMensalCisp['munic'].apply(lambda x: x.strip())"
   ]
  },
  {
   "cell_type": "code",
   "execution_count": 107,
   "metadata": {},
   "outputs": [
    {
     "data": {
      "text/plain": [
       "1794"
      ]
     },
     "execution_count": 107,
     "metadata": {},
     "output_type": "execute_result"
    }
   ],
   "source": [
    "#Existem registros que contém mais de um minicipio, por este motivo será utilizado o código de ibge para a identificação atráves da coluna \"mcirc\", excluindo a coluna 'munic'\n",
    "len(dpevolucaoMensalCisp['munic'][dpevolucaoMensalCisp['munic'].apply(lambda x: ';' in x)])"
   ]
  },
  {
   "cell_type": "code",
   "execution_count": 108,
   "metadata": {},
   "outputs": [],
   "source": [
    "#Remoção da coluna 'munic'\n",
    "dpevolucaoMensalCisp.drop(columns='munic', inplace=True)"
   ]
  },
  {
   "cell_type": "code",
   "execution_count": 125,
   "metadata": {},
   "outputs": [
    {
     "data": {
      "text/plain": [
       "count     23185\n",
       "unique      145\n",
       "top         3,5\n",
       "freq        348\n",
       "Name: area_cisp, dtype: object"
      ]
     },
     "execution_count": 125,
     "metadata": {},
     "output_type": "execute_result"
    }
   ],
   "source": [
    "#Porque a área da cisp está neste arquivo??\n",
    "dpevolucaoMensalCisp['area_cisp'].describe()"
   ]
  },
  {
   "cell_type": "code",
   "execution_count": 133,
   "metadata": {},
   "outputs": [
    {
     "data": {
      "text/plain": [
       "count    4140.000000\n",
       "mean       24.438889\n",
       "std        23.500487\n",
       "min         0.000000\n",
       "25%         7.000000\n",
       "50%        17.000000\n",
       "75%        35.000000\n",
       "max       261.000000\n",
       "Name: grp, dtype: float64"
      ]
     },
     "execution_count": 133,
     "metadata": {},
     "output_type": "execute_result"
    }
   ],
   "source": [
    "dpevolucaoMensalCisp['grp'].describe()"
   ]
  },
  {
   "cell_type": "code",
   "execution_count": 136,
   "metadata": {},
   "outputs": [
    {
     "data": {
      "text/plain": [
       "count    4140.000000\n",
       "mean       31.201208\n",
       "std        31.343160\n",
       "min         0.000000\n",
       "25%         9.000000\n",
       "50%        21.000000\n",
       "75%        44.000000\n",
       "max       287.000000\n",
       "Name: apf_cmp, dtype: float64"
      ]
     },
     "execution_count": 136,
     "metadata": {},
     "output_type": "execute_result"
    }
   ],
   "source": [
    "dpevolucaoMensalCisp['apf_cmp'].describe()"
   ]
  },
  {
   "cell_type": "code",
   "execution_count": 149,
   "metadata": {},
   "outputs": [
    {
     "data": {
      "text/plain": [
       "3    22771\n",
       "2      414\n",
       "Name: fase, dtype: int64"
      ]
     },
     "execution_count": 149,
     "metadata": {},
     "output_type": "execute_result"
    }
   ],
   "source": [
    "dpevolucaoMensalCisp['fase'].value_counts()"
   ]
  },
  {
   "cell_type": "code",
   "execution_count": 187,
   "metadata": {},
   "outputs": [],
   "source": [
    "csv = dpevolucaoMensalCisp.groupby('mcirc').sum().reset_index()[['mcirc','hom_doloso', 'lesao_corp_morte', 'latrocinio',\n",
    "       'tentat_hom', 'lesao_corp_dolosa', 'estupro', 'hom_culposo',\n",
    "       'lesao_corp_culposa', 'encontro_cadaver', 'encontro_ossada',\n",
    "       'roubo_comercio', 'roubo_residencia', 'roubo_veiculo', 'roubo_carga',\n",
    "       'roubo_transeunte', 'roubo_em_coletivo', 'roubo_banco',\n",
    "       'roubo_cx_eletronico', 'roubo_celular']]"
   ]
  },
  {
   "cell_type": "code",
   "execution_count": 188,
   "metadata": {},
   "outputs": [],
   "source": [
    "csv['mcirc'] = csv['mcirc'].apply(lambda x: str(x))"
   ]
  },
  {
   "cell_type": "code",
   "execution_count": 190,
   "metadata": {},
   "outputs": [
    {
     "data": {
      "text/plain": [
       "mcirc    3300100\n",
       "Name: 0, dtype: object"
      ]
     },
     "execution_count": 190,
     "metadata": {},
     "output_type": "execute_result"
    }
   ],
   "source": [
    "csv[['mcirc']].loc[0]"
   ]
  },
  {
   "cell_type": "code",
   "execution_count": 189,
   "metadata": {},
   "outputs": [
    {
     "data": {
      "text/html": [
       "<div>\n",
       "<style scoped>\n",
       "    .dataframe tbody tr th:only-of-type {\n",
       "        vertical-align: middle;\n",
       "    }\n",
       "\n",
       "    .dataframe tbody tr th {\n",
       "        vertical-align: top;\n",
       "    }\n",
       "\n",
       "    .dataframe thead th {\n",
       "        text-align: right;\n",
       "    }\n",
       "</style>\n",
       "<table border=\"1\" class=\"dataframe\">\n",
       "  <thead>\n",
       "    <tr style=\"text-align: right;\">\n",
       "      <th></th>\n",
       "      <th>mcirc</th>\n",
       "    </tr>\n",
       "  </thead>\n",
       "  <tbody>\n",
       "    <tr>\n",
       "      <th>0</th>\n",
       "      <td>3300100</td>\n",
       "    </tr>\n",
       "    <tr>\n",
       "      <th>1</th>\n",
       "      <td>3300209</td>\n",
       "    </tr>\n",
       "    <tr>\n",
       "      <th>2</th>\n",
       "      <td>3300233</td>\n",
       "    </tr>\n",
       "    <tr>\n",
       "      <th>3</th>\n",
       "      <td>3300258</td>\n",
       "    </tr>\n",
       "    <tr>\n",
       "      <th>4</th>\n",
       "      <td>3300308</td>\n",
       "    </tr>\n",
       "    <tr>\n",
       "      <th>5</th>\n",
       "      <td>3300407</td>\n",
       "    </tr>\n",
       "    <tr>\n",
       "      <th>6</th>\n",
       "      <td>3300456</td>\n",
       "    </tr>\n",
       "    <tr>\n",
       "      <th>7</th>\n",
       "      <td>3300506</td>\n",
       "    </tr>\n",
       "    <tr>\n",
       "      <th>8</th>\n",
       "      <td>3300605</td>\n",
       "    </tr>\n",
       "    <tr>\n",
       "      <th>9</th>\n",
       "      <td>3300704</td>\n",
       "    </tr>\n",
       "    <tr>\n",
       "      <th>10</th>\n",
       "      <td>3300803</td>\n",
       "    </tr>\n",
       "    <tr>\n",
       "      <th>11</th>\n",
       "      <td>3300902</td>\n",
       "    </tr>\n",
       "    <tr>\n",
       "      <th>12</th>\n",
       "      <td>3301009</td>\n",
       "    </tr>\n",
       "    <tr>\n",
       "      <th>13</th>\n",
       "      <td>3301108</td>\n",
       "    </tr>\n",
       "    <tr>\n",
       "      <th>14</th>\n",
       "      <td>3301207</td>\n",
       "    </tr>\n",
       "    <tr>\n",
       "      <th>15</th>\n",
       "      <td>3301306</td>\n",
       "    </tr>\n",
       "    <tr>\n",
       "      <th>16</th>\n",
       "      <td>3301405</td>\n",
       "    </tr>\n",
       "    <tr>\n",
       "      <th>17</th>\n",
       "      <td>3301603</td>\n",
       "    </tr>\n",
       "    <tr>\n",
       "      <th>18</th>\n",
       "      <td>3301702</td>\n",
       "    </tr>\n",
       "    <tr>\n",
       "      <th>19</th>\n",
       "      <td>3301801</td>\n",
       "    </tr>\n",
       "    <tr>\n",
       "      <th>20</th>\n",
       "      <td>3301850</td>\n",
       "    </tr>\n",
       "    <tr>\n",
       "      <th>21</th>\n",
       "      <td>3301876</td>\n",
       "    </tr>\n",
       "    <tr>\n",
       "      <th>22</th>\n",
       "      <td>3301900</td>\n",
       "    </tr>\n",
       "    <tr>\n",
       "      <th>23</th>\n",
       "      <td>3302007</td>\n",
       "    </tr>\n",
       "    <tr>\n",
       "      <th>24</th>\n",
       "      <td>3302106</td>\n",
       "    </tr>\n",
       "    <tr>\n",
       "      <th>25</th>\n",
       "      <td>3302254</td>\n",
       "    </tr>\n",
       "    <tr>\n",
       "      <th>26</th>\n",
       "      <td>3302270</td>\n",
       "    </tr>\n",
       "    <tr>\n",
       "      <th>27</th>\n",
       "      <td>3302304</td>\n",
       "    </tr>\n",
       "    <tr>\n",
       "      <th>28</th>\n",
       "      <td>3302403</td>\n",
       "    </tr>\n",
       "    <tr>\n",
       "      <th>29</th>\n",
       "      <td>3302502</td>\n",
       "    </tr>\n",
       "    <tr>\n",
       "      <th>...</th>\n",
       "      <td>...</td>\n",
       "    </tr>\n",
       "    <tr>\n",
       "      <th>60</th>\n",
       "      <td>3305208</td>\n",
       "    </tr>\n",
       "    <tr>\n",
       "      <th>61</th>\n",
       "      <td>3305307</td>\n",
       "    </tr>\n",
       "    <tr>\n",
       "      <th>62</th>\n",
       "      <td>3305406</td>\n",
       "    </tr>\n",
       "    <tr>\n",
       "      <th>63</th>\n",
       "      <td>3305505</td>\n",
       "    </tr>\n",
       "    <tr>\n",
       "      <th>64</th>\n",
       "      <td>3305554</td>\n",
       "    </tr>\n",
       "    <tr>\n",
       "      <th>65</th>\n",
       "      <td>3305604</td>\n",
       "    </tr>\n",
       "    <tr>\n",
       "      <th>66</th>\n",
       "      <td>3305703</td>\n",
       "    </tr>\n",
       "    <tr>\n",
       "      <th>67</th>\n",
       "      <td>3305752</td>\n",
       "    </tr>\n",
       "    <tr>\n",
       "      <th>68</th>\n",
       "      <td>3305802</td>\n",
       "    </tr>\n",
       "    <tr>\n",
       "      <th>69</th>\n",
       "      <td>3305901</td>\n",
       "    </tr>\n",
       "    <tr>\n",
       "      <th>70</th>\n",
       "      <td>3306107</td>\n",
       "    </tr>\n",
       "    <tr>\n",
       "      <th>71</th>\n",
       "      <td>3306206</td>\n",
       "    </tr>\n",
       "    <tr>\n",
       "      <th>72</th>\n",
       "      <td>3306305</td>\n",
       "    </tr>\n",
       "    <tr>\n",
       "      <th>73</th>\n",
       "      <td>9999981</td>\n",
       "    </tr>\n",
       "    <tr>\n",
       "      <th>74</th>\n",
       "      <td>9999982</td>\n",
       "    </tr>\n",
       "    <tr>\n",
       "      <th>75</th>\n",
       "      <td>9999983</td>\n",
       "    </tr>\n",
       "    <tr>\n",
       "      <th>76</th>\n",
       "      <td>9999984</td>\n",
       "    </tr>\n",
       "    <tr>\n",
       "      <th>77</th>\n",
       "      <td>9999985</td>\n",
       "    </tr>\n",
       "    <tr>\n",
       "      <th>78</th>\n",
       "      <td>9999986</td>\n",
       "    </tr>\n",
       "    <tr>\n",
       "      <th>79</th>\n",
       "      <td>9999987</td>\n",
       "    </tr>\n",
       "    <tr>\n",
       "      <th>80</th>\n",
       "      <td>9999988</td>\n",
       "    </tr>\n",
       "    <tr>\n",
       "      <th>81</th>\n",
       "      <td>9999991</td>\n",
       "    </tr>\n",
       "    <tr>\n",
       "      <th>82</th>\n",
       "      <td>9999992</td>\n",
       "    </tr>\n",
       "    <tr>\n",
       "      <th>83</th>\n",
       "      <td>9999993</td>\n",
       "    </tr>\n",
       "    <tr>\n",
       "      <th>84</th>\n",
       "      <td>9999994</td>\n",
       "    </tr>\n",
       "    <tr>\n",
       "      <th>85</th>\n",
       "      <td>9999995</td>\n",
       "    </tr>\n",
       "    <tr>\n",
       "      <th>86</th>\n",
       "      <td>9999996</td>\n",
       "    </tr>\n",
       "    <tr>\n",
       "      <th>87</th>\n",
       "      <td>9999997</td>\n",
       "    </tr>\n",
       "    <tr>\n",
       "      <th>88</th>\n",
       "      <td>9999998</td>\n",
       "    </tr>\n",
       "    <tr>\n",
       "      <th>89</th>\n",
       "      <td>9999999</td>\n",
       "    </tr>\n",
       "  </tbody>\n",
       "</table>\n",
       "<p>90 rows × 1 columns</p>\n",
       "</div>"
      ],
      "text/plain": [
       "      mcirc\n",
       "0   3300100\n",
       "1   3300209\n",
       "2   3300233\n",
       "3   3300258\n",
       "4   3300308\n",
       "5   3300407\n",
       "6   3300456\n",
       "7   3300506\n",
       "8   3300605\n",
       "9   3300704\n",
       "10  3300803\n",
       "11  3300902\n",
       "12  3301009\n",
       "13  3301108\n",
       "14  3301207\n",
       "15  3301306\n",
       "16  3301405\n",
       "17  3301603\n",
       "18  3301702\n",
       "19  3301801\n",
       "20  3301850\n",
       "21  3301876\n",
       "22  3301900\n",
       "23  3302007\n",
       "24  3302106\n",
       "25  3302254\n",
       "26  3302270\n",
       "27  3302304\n",
       "28  3302403\n",
       "29  3302502\n",
       "..      ...\n",
       "60  3305208\n",
       "61  3305307\n",
       "62  3305406\n",
       "63  3305505\n",
       "64  3305554\n",
       "65  3305604\n",
       "66  3305703\n",
       "67  3305752\n",
       "68  3305802\n",
       "69  3305901\n",
       "70  3306107\n",
       "71  3306206\n",
       "72  3306305\n",
       "73  9999981\n",
       "74  9999982\n",
       "75  9999983\n",
       "76  9999984\n",
       "77  9999985\n",
       "78  9999986\n",
       "79  9999987\n",
       "80  9999988\n",
       "81  9999991\n",
       "82  9999992\n",
       "83  9999993\n",
       "84  9999994\n",
       "85  9999995\n",
       "86  9999996\n",
       "87  9999997\n",
       "88  9999998\n",
       "89  9999999\n",
       "\n",
       "[90 rows x 1 columns]"
      ]
     },
     "execution_count": 189,
     "metadata": {},
     "output_type": "execute_result"
    }
   ],
   "source": [
    "csv[['mcirc']]"
   ]
  },
  {
   "cell_type": "code",
   "execution_count": 191,
   "metadata": {},
   "outputs": [
    {
     "name": "stdout",
     "output_type": "stream",
     "text": [
      ",mcirc,hom_doloso,lesao_corp_morte,latrocinio,tentat_hom,lesao_corp_dolosa,estupro,hom_culposo,lesao_corp_culposa,encontro_cadaver,encontro_ossada,roubo_comercio,roubo_residencia,roubo_veiculo,roubo_carga,roubo_transeunte,roubo_em_coletivo,roubo_banco,roubo_cx_eletronico,roubo_celular\n",
      "0,3300100,1021,3,11,1156,14313,770,480,5056,129,7,676,198,423,79,1195,414,2,3.0,239\n",
      "1,3300209,708,1,23,418,8988,618,489,6672,41,4,396,323,748,132,1520,107,5,7.0,279\n",
      "2,3300233,333,3,8,279,4433,228,121,2316,48,6,249,205,238,32,614,71,2,2.0,73\n",
      "3,3300258,46,1,0,105,1343,104,43,371,19,1,20,8,19,4,106,2,0,0.0,18\n",
      "4,3300308,223,5,6,323,8401,303,307,2421,81,7,130,69,93,75,190,69,2,0.0,59\n",
      "5,3300407,583,7,9,808,9725,455,368,3588,51,4,911,119,439,169,1136,166,2,0.0,129\n",
      "6,3300456,3346,10,41,1657,26418,1968,320,7501,134,10,1205,285,9145,1798,16219,1669,2,5.0,1995\n",
      "7,3300506,54,1,2,80,1548,80,96,860,28,2,43,33,15,11,39,1,1,0.0,5\n",
      "8,3300605,17,1,6,136,3474,165,78,754,46,0,24,20,16,7,53,2,0,0.0,11\n",
      "9,3300704,790,5,12,809,6228,604,186,3553,83,12,538,97,673,123,2707,173,4,3.0,344\n",
      "10,3300803,201,3,7,207,4470,245,287,2446,40,4,125,137,164,32,204,43,0,0.0,27\n",
      "11,3300902,26,0,0,37,1286,62,34,561,18,1,11,10,9,4,10,1,0,0.0,1\n",
      "12,3301009,2720,13,50,3421,26287,1856,1927,18191,337,27,1827,650,2188,548,11095,804,10,10.0,1253\n",
      "13,3301108,49,1,0,29,1897,82,52,563,20,0,56,29,49,13,42,13,0,0.0,9\n",
      "14,3301207,18,0,3,37,2029,76,32,413,22,1,18,14,36,29,8,2,0,0.0,2\n",
      "15,3301306,150,0,6,146,3016,163,319,2228,46,0,110,82,300,217,260,21,6,1.0,29\n",
      "16,3301405,124,0,5,196,1914,102,116,949,16,0,85,33,124,65,56,4,1,0.0,16\n",
      "17,3301603,19,2,1,28,1174,62,38,406,11,0,11,7,8,9,14,2,1,0.0,1\n",
      "18,3301702,6657,24,188,3660,62821,3523,1841,27329,602,30,4454,992,39383,6865,60999,10973,8,24.0,8518\n",
      "19,3301801,18,0,1,18,1370,96,21,502,8,0,13,10,15,5,17,0,0,0.0,1\n",
      "20,3301850,127,0,5,97,2002,118,124,1120,19,0,114,28,343,66,323,42,0,0.0,92\n",
      "21,3301876,69,1,4,66,1903,97,52,1170,15,1,117,91,175,37,296,27,1,3.0,38\n",
      "22,3301900,463,2,16,591,6645,630,313,3699,35,2,680,131,2115,280,4388,1099,1,2.0,498\n",
      "23,3302007,1019,5,29,893,7914,604,481,4684,82,11,717,338,2602,164,3317,527,2,3.0,663\n",
      "24,3302106,64,0,4,63,2419,86,57,730,29,2,29,22,21,22,27,1,0,0.0,8\n",
      "25,3302254,126,2,4,270,3080,178,89,895,25,1,212,64,76,45,192,32,2,0.0,21\n",
      "26,3302270,666,3,18,611,7094,525,87,1758,52,3,206,80,544,147,1106,171,2,0.0,156\n",
      "27,3302304,6,1,1,32,765,34,14,150,9,0,1,3,1,1,15,2,0,0.0,1\n",
      "28,3302403,797,3,28,918,8020,656,423,6093,113,12,968,224,2333,335,6213,1053,4,3.0,1066\n",
      "29,3302502,1125,14,29,832,14595,880,263,5749,195,7,497,238,2179,328,3957,653,1,2.0,609\n",
      "30,3302601,209,2,10,167,3598,247,249,2027,163,5,86,79,330,35,316,83,0,0.0,69\n",
      "31,3302700,603,6,31,429,9833,661,539,5492,55,13,593,414,1773,148,2914,282,5,2.0,298\n",
      "32,3302809,25,2,0,29,1878,86,25,626,29,2,21,16,15,3,53,7,0,0.0,5\n",
      "33,3302858,907,8,40,766,14743,788,196,4500,54,6,858,172,5010,592,11771,1554,2,9.0,1561\n",
      "34,3303005,44,0,2,155,3085,102,49,690,36,2,35,18,5,4,56,3,0,0.0,7\n",
      "35,3303203,800,2,40,603,12231,652,109,3593,37,2,1207,201,8196,818,15851,817,6,12.0,2659\n",
      "36,3303302,2048,21,98,2136,36467,1751,970,24328,383,26,4307,1398,15335,781,38031,7576,35,33.0,6110\n",
      "37,3303401,512,6,13,542,14760,618,412,7024,91,17,545,180,229,95,1327,131,3,1.0,226\n",
      "38,3303500,6001,28,135,2792,52943,4176,1304,22671,314,22,3644,788,25989,3142,46413,4718,4,34.0,7439\n",
      "39,3303609,142,2,3,182,4456,200,78,1119,18,0,71,22,199,219,221,32,0,1.0,65\n",
      "40,3303708,89,1,2,86,3262,170,143,1062,35,5,57,33,40,29,105,9,0,0.0,15\n",
      "41,3303807,305,4,5,474,3413,229,141,1083,75,4,238,68,57,3,260,32,3,1.0,29\n",
      "42,3303906,350,7,20,486,18871,1134,495,7485,115,9,602,290,473,246,1641,175,1,2.0,222\n",
      "43,3303955,51,1,0,69,2520,131,22,561,24,2,68,21,22,5,96,5,0,0.0,25\n",
      "44,3304003,42,2,2,63,2410,111,192,1316,40,1,31,34,107,319,61,12,0,0.0,13\n",
      "45,3304102,16,1,0,53,1905,118,15,451,18,2,8,15,2,1,12,0,0,0.0,2\n",
      "46,3304144,1121,5,25,654,14562,882,214,3703,62,3,598,165,1302,394,4035,507,2,4.0,484\n",
      "47,3304201,508,9,12,904,11436,498,277,3552,45,4,828,164,373,142,1488,141,6,3.0,162\n",
      "48,3304300,118,1,6,139,3690,183,440,3256,30,1,178,113,531,164,556,238,1,2.0,80\n",
      "49,3304409,49,2,3,77,1232,77,83,1149,34,0,21,23,28,11,20,4,0,1.0,6\n",
      "50,3304508,11,0,0,9,994,45,16,234,10,0,4,7,7,5,5,0,1,0.0,0\n",
      "51,3304524,598,3,11,618,8659,655,353,6287,76,9,594,356,1339,163,4105,208,3,6.0,423\n",
      "52,3304557,26740,321,1163,26205,434865,20583,10250,268669,4427,167,41377,8542,256645,40313,468843,71393,278,344.0,86088\n",
      "53,3304607,30,0,0,36,796,51,22,285,23,0,4,12,34,6,5,0,1,0.0,2\n",
      "54,3304755,186,1,9,260,2703,240,231,1541,48,4,75,89,107,7,118,8,1,0.0,15\n",
      "55,3304805,63,1,2,115,2344,117,80,1304,72,0,40,20,58,39,83,4,1,0.0,2\n",
      "56,3304904,5455,14,172,3346,57332,3296,1951,28075,335,24,6032,1296,30368,4162,69020,9630,12,28.0,7366\n",
      "57,3305000,147,1,7,210,3530,223,212,1603,49,0,108,126,134,13,335,27,1,1.0,26\n",
      "58,3305109,2594,9,90,1475,33564,1891,440,11904,94,7,2343,478,17806,3094,28239,3555,6,17.0,4048\n",
      "59,3305158,7,0,0,24,1322,67,29,673,14,0,13,5,17,7,14,5,0,0.0,1\n",
      "60,3305208,530,3,22,440,5958,458,392,4116,37,6,380,172,504,111,1227,189,2,1.0,109\n",
      "61,3305307,25,0,1,38,706,28,47,378,9,0,9,12,18,17,4,0,0,0.0,1\n",
      "62,3305406,26,2,0,33,1238,88,190,770,29,1,35,20,127,113,13,4,0,0.0,2\n",
      "63,3305505,373,3,14,369,6370,400,355,4146,94,4,226,173,431,64,679,104,0,2.0,99\n",
      "64,3305554,482,2,12,328,5625,415,288,2255,93,11,243,141,1280,481,1171,124,1,0.0,211\n",
      "65,3305604,89,3,13,66,1806,124,399,1774,28,2,50,41,171,129,49,18,0,0.0,17\n",
      "66,3305703,11,0,2,32,1042,69,31,251,10,0,13,11,29,4,2,2,0,0.0,0\n",
      "67,3305752,29,2,3,53,1110,89,44,436,15,0,71,9,213,27,277,62,1,0.0,36\n",
      "68,3305802,255,3,18,404,13973,673,545,6682,65,11,263,191,272,116,856,55,2,0.0,96\n",
      "69,3305901,19,2,0,21,814,50,35,187,24,0,9,20,13,5,6,0,1,0.0,0\n",
      "70,3306107,94,3,3,175,6584,321,155,1726,41,2,57,61,45,21,165,10,1,3.0,18\n",
      "71,3306206,93,2,0,125,3779,156,214,1319,19,1,46,36,74,60,76,8,0,1.0,12\n",
      "72,3306305,939,7,15,1093,17578,902,392,7909,82,2,1133,246,633,125,2743,147,7,7.0,408\n",
      "73,9999981,151,0,2,81,983,48,27,225,11,0,34,17,109,57,82,18,0,0.0,28\n",
      "74,9999982,362,11,12,249,6333,274,230,2423,70,3,190,167,592,208,649,184,1,2.0,101\n",
      "75,9999983,1041,10,35,471,8265,492,570,3750,68,13,601,351,1722,415,3256,1797,0,3.0,367\n",
      "76,9999984,686,0,13,392,5128,232,346,3967,66,7,353,185,585,215,1634,656,1,6.0,272\n",
      "77,9999985,791,2,21,591,9176,431,209,4591,62,5,660,223,634,67,2765,275,2,6.0,403\n",
      "78,9999986,147,2,0,258,2397,110,125,1672,62,3,75,31,25,12,112,14,0,0.0,10\n",
      "79,9999987,59,1,1,50,563,13,48,508,8,0,37,8,31,2,58,25,0,0.0,11\n",
      "80,9999988,9,0,2,7,346,9,29,175,9,0,12,3,53,41,6,1,0,0.0,1\n",
      "81,9999991,216,2,12,318,9302,449,338,2621,90,3,259,72,201,226,564,49,2,3.0,98\n",
      "82,9999992,86,1,2,113,2447,108,87,836,22,1,105,52,54,42,125,10,1,1.0,7\n",
      "83,9999993,81,3,6,178,3819,151,232,1987,52,1,126,70,37,35,102,6,0,1.0,10\n",
      "84,9999994,76,1,6,123,1748,195,174,880,29,1,70,38,163,50,94,6,4,0.0,27\n",
      "85,9999995,24,0,2,50,973,61,46,271,10,0,16,8,18,16,8,1,0,0.0,2\n",
      "86,9999996,209,2,13,306,4556,290,231,2202,44,3,140,73,39,40,188,7,1,0.0,23\n",
      "87,9999997,14,0,0,52,1713,123,35,943,19,1,10,12,3,0,7,2,0,0.0,3\n",
      "88,9999998,34,0,0,64,2697,73,90,759,14,0,52,18,19,13,55,9,1,0.0,12\n",
      "89,9999999,140,1,8,111,3239,281,137,1825,30,0,42,55,34,5,68,9,1,1.0,12\n",
      "\n"
     ]
    }
   ],
   "source": [
    "print(csv.to_csv())"
   ]
  }
 ],
 "metadata": {
  "kernelspec": {
   "display_name": "Python3.5",
   "language": "python",
   "name": "python3.5"
  },
  "language_info": {
   "codemirror_mode": {
    "name": "ipython",
    "version": 3
   },
   "file_extension": ".py",
   "mimetype": "text/x-python",
   "name": "python",
   "nbconvert_exporter": "python",
   "pygments_lexer": "ipython3",
   "version": "3.6.5"
  }
 },
 "nbformat": 4,
 "nbformat_minor": 2
}
